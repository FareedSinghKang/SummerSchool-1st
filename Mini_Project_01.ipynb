{
  "nbformat": 4,
  "nbformat_minor": 0,
  "metadata": {
    "colab": {
      "provenance": [],
      "authorship_tag": "ABX9TyNiK4DEzIsCiEZqtn3ebC3C",
      "include_colab_link": true
    },
    "kernelspec": {
      "name": "python3",
      "display_name": "Python 3"
    },
    "language_info": {
      "name": "python"
    }
  },
  "cells": [
    {
      "cell_type": "markdown",
      "metadata": {
        "id": "view-in-github",
        "colab_type": "text"
      },
      "source": [
        "<a href=\"https://colab.research.google.com/github/FareedSinghKang/SummerSchool-1st/blob/main/Mini_Project_01.ipynb\" target=\"_parent\"><img src=\"https://colab.research.google.com/assets/colab-badge.svg\" alt=\"Open In Colab\"/></a>"
      ]
    },
    {
      "cell_type": "code",
      "execution_count": 1,
      "metadata": {
        "colab": {
          "base_uri": "https://localhost:8080/"
        },
        "id": "FajvVYGgUVTz",
        "outputId": "43341d13-655b-4db8-8bbd-03b5b2f20f65"
      },
      "outputs": [
        {
          "output_type": "stream",
          "name": "stdout",
          "text": [
            "[11, 12, 13, 14, 50, 60]\n"
          ]
        }
      ],
      "source": [
        "L = [11, 12, 13, 14]\n",
        "\n",
        "#(i)\n",
        "L.append(50)\n",
        "L.append(60)\n",
        "\n",
        "print(L)\n",
        "\n",
        "\n"
      ]
    },
    {
      "cell_type": "code",
      "source": [
        "L = [11, 12, 13, 14]\n",
        "\n",
        "#(ii)\n",
        "L.remove(11)\n",
        "L.remove(13)\n",
        "\n",
        "print(L)"
      ],
      "metadata": {
        "colab": {
          "base_uri": "https://localhost:8080/"
        },
        "id": "9W_inpz3WOtH",
        "outputId": "8e624c0d-aaa3-4b94-b928-0195a9ae55de"
      },
      "execution_count": 2,
      "outputs": [
        {
          "output_type": "stream",
          "name": "stdout",
          "text": [
            "[12, 14]\n"
          ]
        }
      ]
    },
    {
      "cell_type": "code",
      "source": [
        "L = [11, 12, 13, 14]\n",
        "#(iii)\n",
        "L.sort()\n",
        "print(L)\n"
      ],
      "metadata": {
        "colab": {
          "base_uri": "https://localhost:8080/"
        },
        "id": "kpU8JcObWyx4",
        "outputId": "cf25dafd-ed0a-42a0-c767-2767d9e6db7f"
      },
      "execution_count": 3,
      "outputs": [
        {
          "output_type": "stream",
          "name": "stdout",
          "text": [
            "[11, 12, 13, 14]\n"
          ]
        }
      ]
    },
    {
      "cell_type": "code",
      "source": [
        "L = [11, 12, 13, 14]\n",
        "#(iv)\n",
        "L.sort(reverse=True)\n",
        "print(L)"
      ],
      "metadata": {
        "colab": {
          "base_uri": "https://localhost:8080/"
        },
        "id": "nBKO7lY1W36a",
        "outputId": "63324b57-99dd-42fa-ade0-73b15a7320f3"
      },
      "execution_count": 4,
      "outputs": [
        {
          "output_type": "stream",
          "name": "stdout",
          "text": [
            "[14, 13, 12, 11]\n"
          ]
        }
      ]
    },
    {
      "cell_type": "code",
      "source": [
        "L = [11, 12, 13, 14]\n",
        "#(v)\n",
        "for i in L:\n",
        "  if i == 13:\n",
        "    print(f'Found {i}')"
      ],
      "metadata": {
        "colab": {
          "base_uri": "https://localhost:8080/"
        },
        "id": "toWuHmE2W9S2",
        "outputId": "79841212-2905-4a83-efe9-7656ad269b98"
      },
      "execution_count": 5,
      "outputs": [
        {
          "output_type": "stream",
          "name": "stdout",
          "text": [
            "Found 13\n"
          ]
        }
      ]
    },
    {
      "cell_type": "code",
      "source": [
        "L = [11, 12, 13, 14]\n",
        "#(vi)\n",
        "ln = len(L)\n",
        "print(f\"Length is {ln}\")"
      ],
      "metadata": {
        "colab": {
          "base_uri": "https://localhost:8080/"
        },
        "id": "Hyb3tHB6XQCN",
        "outputId": "feed0f0b-a6aa-460c-d2ab-b0058abb31ac"
      },
      "execution_count": 6,
      "outputs": [
        {
          "output_type": "stream",
          "name": "stdout",
          "text": [
            "Length is 4\n"
          ]
        }
      ]
    },
    {
      "cell_type": "code",
      "source": [
        "L = [11, 12, 13, 14]\n",
        "#(vii)\n",
        "s = 0\n",
        "for i in L:\n",
        "  s += i\n",
        "\n",
        "print(f\"Sum is {s}\")"
      ],
      "metadata": {
        "colab": {
          "base_uri": "https://localhost:8080/"
        },
        "id": "IRtUp9Q0XcZH",
        "outputId": "1da14e64-63cc-4a58-f160-409853c6620f"
      },
      "execution_count": 7,
      "outputs": [
        {
          "output_type": "stream",
          "name": "stdout",
          "text": [
            "Sum is 50\n"
          ]
        }
      ]
    },
    {
      "cell_type": "code",
      "source": [
        "L = [11, 12, 13, 14]\n",
        "#(viii)\n",
        "s = 0\n",
        "for i in L:\n",
        "  if (i % 2 != 0):\n",
        "    s += i\n",
        "\n",
        "print(f\"Sum is {s}\")"
      ],
      "metadata": {
        "colab": {
          "base_uri": "https://localhost:8080/"
        },
        "id": "ob2DPftOXhl_",
        "outputId": "a88ce17e-161a-4572-e38e-1dfcd4b4ee68"
      },
      "execution_count": 8,
      "outputs": [
        {
          "output_type": "stream",
          "name": "stdout",
          "text": [
            "Sum is 24\n"
          ]
        }
      ]
    },
    {
      "cell_type": "code",
      "source": [
        "L = [11, 12, 13, 14]\n",
        "#(ix)\n",
        "s = 0\n",
        "for i in L:\n",
        "  if (i % 2 == 0):\n",
        "    s += i\n",
        "\n",
        "print(f\"Sum is {s}\")"
      ],
      "metadata": {
        "colab": {
          "base_uri": "https://localhost:8080/"
        },
        "id": "5Af2zgZgX_3T",
        "outputId": "4af7d5e8-648e-4588-be06-5df9a9cfea4b"
      },
      "execution_count": 9,
      "outputs": [
        {
          "output_type": "stream",
          "name": "stdout",
          "text": [
            "Sum is 26\n"
          ]
        }
      ]
    },
    {
      "cell_type": "code",
      "source": [
        "#(x)\n",
        "def IsPrime(n):\n",
        "    if n < 2:\n",
        "        return False\n",
        "    for i in range(2, int(n**0.5)+1):\n",
        "        if n % i == 0:\n",
        "            return False\n",
        "    return True\n",
        "\n",
        "L = [11, 12, 13, 14]\n",
        "sum_of_primes = 0\n",
        "\n",
        "for i in L:\n",
        "    if IsPrime(i):\n",
        "        sum_of_primes += i\n",
        "\n",
        "print(f\"Sum is {sum_of_primes}\")\n"
      ],
      "metadata": {
        "colab": {
          "base_uri": "https://localhost:8080/"
        },
        "id": "WkAmvt-qYLgR",
        "outputId": "44aeca5d-da93-4550-b6f6-7ae9e5828635"
      },
      "execution_count": 10,
      "outputs": [
        {
          "output_type": "stream",
          "name": "stdout",
          "text": [
            "Sum is 24\n"
          ]
        }
      ]
    },
    {
      "cell_type": "code",
      "source": [
        "L = [11, 12, 13, 14]\n",
        "#(xi)\n",
        "L.clear()\n",
        "\n",
        "print(L)"
      ],
      "metadata": {
        "colab": {
          "base_uri": "https://localhost:8080/"
        },
        "id": "pWK09j3hZ26T",
        "outputId": "2e6cc410-be02-4957-c1f9-9af48933c778"
      },
      "execution_count": 11,
      "outputs": [
        {
          "output_type": "stream",
          "name": "stdout",
          "text": [
            "[]\n"
          ]
        }
      ]
    },
    {
      "cell_type": "code",
      "source": [
        "L = [11, 12, 13, 14]\n",
        "#(xii)\n",
        "del L\n",
        "print(L)"
      ],
      "metadata": {
        "colab": {
          "base_uri": "https://localhost:8080/",
          "height": 176
        },
        "id": "-okBlplkaBiu",
        "outputId": "557766be-4eac-4f9b-8492-c635a05ff6ed"
      },
      "execution_count": 12,
      "outputs": [
        {
          "output_type": "error",
          "ename": "NameError",
          "evalue": "name 'L' is not defined",
          "traceback": [
            "\u001b[0;31m---------------------------------------------------------------------------\u001b[0m",
            "\u001b[0;31mNameError\u001b[0m                                 Traceback (most recent call last)",
            "\u001b[0;32m<ipython-input-12-439147349>\u001b[0m in \u001b[0;36m<cell line: 0>\u001b[0;34m()\u001b[0m\n\u001b[1;32m      2\u001b[0m \u001b[0;31m#(xii)\u001b[0m\u001b[0;34m\u001b[0m\u001b[0;34m\u001b[0m\u001b[0m\n\u001b[1;32m      3\u001b[0m \u001b[0;32mdel\u001b[0m \u001b[0mL\u001b[0m\u001b[0;34m\u001b[0m\u001b[0;34m\u001b[0m\u001b[0m\n\u001b[0;32m----> 4\u001b[0;31m \u001b[0mprint\u001b[0m\u001b[0;34m(\u001b[0m\u001b[0mL\u001b[0m\u001b[0;34m)\u001b[0m\u001b[0;34m\u001b[0m\u001b[0;34m\u001b[0m\u001b[0m\n\u001b[0m",
            "\u001b[0;31mNameError\u001b[0m: name 'L' is not defined"
          ]
        }
      ]
    },
    {
      "cell_type": "code",
      "source": [
        "''' Question 2 '''\n",
        "D = {1:5.6, 2:7.8, 3:6.6, 4:8.7, 5:7.7}\n",
        "\n",
        "#(i)\n",
        "D[8] = 8.8\n",
        "\n",
        "print(D)"
      ],
      "metadata": {
        "colab": {
          "base_uri": "https://localhost:8080/"
        },
        "id": "_QViW4v9adrr",
        "outputId": "a8dfe4a5-3a8f-4062-f99c-da43ccff850b"
      },
      "execution_count": 30,
      "outputs": [
        {
          "output_type": "stream",
          "name": "stdout",
          "text": [
            "{1: 5.6, 2: 7.8, 3: 6.6, 4: 8.7, 5: 7.7, 8: 8.8}\n"
          ]
        }
      ]
    },
    {
      "cell_type": "code",
      "source": [
        "D = {1:5.6, 2:7.8, 3:6.6, 4:8.7, 5:7.7}\n",
        "\n",
        "#(ii)\n",
        "\n",
        "D.pop(2)\n",
        "\n",
        "print(D)"
      ],
      "metadata": {
        "colab": {
          "base_uri": "https://localhost:8080/"
        },
        "id": "N2vgCQ-6a87d",
        "outputId": "213822b2-906d-4d09-fb01-48126d00a803"
      },
      "execution_count": 31,
      "outputs": [
        {
          "output_type": "stream",
          "name": "stdout",
          "text": [
            "{1: 5.6, 3: 6.6, 4: 8.7, 5: 7.7}\n"
          ]
        }
      ]
    },
    {
      "cell_type": "code",
      "source": [
        "D = {1:5.6, 2:7.8, 3:6.6, 4:8.7, 5:7.7}\n",
        "if D.get(6):\n",
        "   print('True')\n",
        "else:\n",
        "  print('False')"
      ],
      "metadata": {
        "colab": {
          "base_uri": "https://localhost:8080/"
        },
        "id": "sZJiuE7UbZID",
        "outputId": "fe73cacc-846b-4668-fa24-abbc27e68eeb"
      },
      "execution_count": 32,
      "outputs": [
        {
          "output_type": "stream",
          "name": "stdout",
          "text": [
            "False\n"
          ]
        }
      ]
    },
    {
      "cell_type": "code",
      "source": [
        "D = {1:5.6, 2:7.8, 3:6.6, 4:8.7, 5:7.7}\n",
        "ln = len(D)\n",
        "print(ln)"
      ],
      "metadata": {
        "colab": {
          "base_uri": "https://localhost:8080/"
        },
        "id": "RAe4XfjDcDKI",
        "outputId": "610d432d-67dd-4347-f7ba-b369211cb556"
      },
      "execution_count": 33,
      "outputs": [
        {
          "output_type": "stream",
          "name": "stdout",
          "text": [
            "5\n"
          ]
        }
      ]
    },
    {
      "cell_type": "code",
      "source": [
        "D = {1: 5.6, 2: 7.8, 3: 6.6, 4: 8.7, 5: 7.7}\n",
        "\n",
        "total = sum(D.values())\n",
        "\n",
        "print(f\"Sum of all values: {total}\")\n"
      ],
      "metadata": {
        "colab": {
          "base_uri": "https://localhost:8080/"
        },
        "id": "8Y6gRdv5caes",
        "outputId": "fd0d3f11-072d-4039-c1c1-e1bd6a90cf03"
      },
      "execution_count": 34,
      "outputs": [
        {
          "output_type": "stream",
          "name": "stdout",
          "text": [
            "Sum of all values: 36.4\n"
          ]
        }
      ]
    },
    {
      "cell_type": "code",
      "source": [
        "D = {1: 5.6, 2: 7.8, 3: 6.6, 4: 8.7, 5: 7.7}\n",
        "\n",
        "D.update({3:7.1})\n",
        "\n",
        "print(D)"
      ],
      "metadata": {
        "colab": {
          "base_uri": "https://localhost:8080/"
        },
        "id": "WJcIGZ4BckKo",
        "outputId": "766568b4-d736-4f95-81b6-1ce1231bf602"
      },
      "execution_count": 35,
      "outputs": [
        {
          "output_type": "stream",
          "name": "stdout",
          "text": [
            "{1: 5.6, 2: 7.8, 3: 7.1, 4: 8.7, 5: 7.7}\n"
          ]
        }
      ]
    },
    {
      "cell_type": "code",
      "source": [
        "D = {1: 5.6, 2: 7.8, 3: 6.6, 4: 8.7, 5: 7.7}\n",
        "\n",
        "D.clear\n",
        "\n",
        "print(D)"
      ],
      "metadata": {
        "colab": {
          "base_uri": "https://localhost:8080/"
        },
        "id": "Ie_kGR9xdlxz",
        "outputId": "a918492f-2337-4887-f7a3-fdb01e7822aa"
      },
      "execution_count": 36,
      "outputs": [
        {
          "output_type": "stream",
          "name": "stdout",
          "text": [
            "{1: 5.6, 2: 7.8, 3: 6.6, 4: 8.7, 5: 7.7}\n"
          ]
        }
      ]
    },
    {
      "cell_type": "code",
      "source": [
        "''' Question 3 '''\n",
        "S1 = {10, 20, 30, 40, 50, 60}\n",
        "\n",
        "S2 = {40, 50, 60, 70, 80, 90}\n",
        "\n",
        "type(S1)\n",
        "S1.add(55)\n",
        "S1.add(61)\n",
        "\n",
        "print(S1)"
      ],
      "metadata": {
        "colab": {
          "base_uri": "https://localhost:8080/"
        },
        "id": "Y19M_fewdtsA",
        "outputId": "208afd52-0e54-4204-bc00-7892c474b2b4"
      },
      "execution_count": 37,
      "outputs": [
        {
          "output_type": "stream",
          "name": "stdout",
          "text": [
            "{50, 20, 55, 40, 10, 60, 61, 30}\n"
          ]
        }
      ]
    },
    {
      "cell_type": "code",
      "source": [
        "S1 = {10, 20, 30, 40, 50, 60}\n",
        "\n",
        "S2 = {40, 50, 60, 70, 80, 90}\n",
        "\n",
        "S1.remove(10)\n",
        "S1.remove(30)\n",
        "\n",
        "print(S1)"
      ],
      "metadata": {
        "colab": {
          "base_uri": "https://localhost:8080/"
        },
        "id": "iHgOjg5afd8I",
        "outputId": "f8f7f56c-1847-4ddd-8b44-68ed7d5001c9"
      },
      "execution_count": 38,
      "outputs": [
        {
          "output_type": "stream",
          "name": "stdout",
          "text": [
            "{50, 20, 40, 60}\n"
          ]
        }
      ]
    },
    {
      "cell_type": "code",
      "source": [
        "S1 = {10, 20, 30, 40, 50, 60}\n",
        "\n",
        "S2 = {40, 50, 60, 70, 80, 90}\n",
        "i = 0\n",
        "if i in S1:\n",
        "  if i == 40:\n",
        "    print(\"40 is present\")\n"
      ],
      "metadata": {
        "id": "14kIUeqSguBj"
      },
      "execution_count": 39,
      "outputs": []
    },
    {
      "cell_type": "code",
      "source": [
        "S1 = {10, 20, 30, 40, 50, 60}\n",
        "S2 = {40, 50, 60, 70, 80, 90}\n",
        "\n",
        "union_set = S1.union(S2)\n",
        "print(f\"Union: {union_set}\")\n"
      ],
      "metadata": {
        "colab": {
          "base_uri": "https://localhost:8080/"
        },
        "id": "AYmXMcpzhJ2M",
        "outputId": "829b6182-989b-45fe-d667-04288d455c98"
      },
      "execution_count": 40,
      "outputs": [
        {
          "output_type": "stream",
          "name": "stdout",
          "text": [
            "Union: {70, 40, 10, 80, 50, 20, 90, 60, 30}\n"
          ]
        }
      ]
    },
    {
      "cell_type": "code",
      "source": [
        "S1 = {10, 20, 30, 40, 50, 60}\n",
        "S2 = {40, 50, 60, 70, 80, 90}\n",
        "\n",
        "intersection_set = S1.intersection(S2)\n",
        "print(f\"Intersection: {intersection_set}\")\n"
      ],
      "metadata": {
        "colab": {
          "base_uri": "https://localhost:8080/"
        },
        "id": "4IFuMtP-hURk",
        "outputId": "25cd4be1-868b-437c-e4fb-4bcf468dcdf6"
      },
      "execution_count": 41,
      "outputs": [
        {
          "output_type": "stream",
          "name": "stdout",
          "text": [
            "Intersection: {40, 50, 60}\n"
          ]
        }
      ]
    },
    {
      "cell_type": "code",
      "source": [
        "S3 = S1 - S2\n",
        "print(S3)"
      ],
      "metadata": {
        "colab": {
          "base_uri": "https://localhost:8080/"
        },
        "id": "UtEWFWXYhdp5",
        "outputId": "717d8498-1694-47e8-bbbb-1586187775dc"
      },
      "execution_count": 42,
      "outputs": [
        {
          "output_type": "stream",
          "name": "stdout",
          "text": [
            "{10, 20, 30}\n"
          ]
        }
      ]
    },
    {
      "cell_type": "code",
      "source": [
        "''' Queestion 4 '''\n",
        "#(i)\n",
        "import random\n",
        "import string\n",
        "\n",
        "for _ in range(100):\n",
        "    length = random.randint(6, 8)  # Random length between 6 and 8\n",
        "    rand_str = ''.join(random.choices(string.ascii_letters + string.digits, k=length))\n",
        "    print(rand_str)\n"
      ],
      "metadata": {
        "colab": {
          "base_uri": "https://localhost:8080/"
        },
        "id": "G1m4f0wwhgzb",
        "outputId": "f676038f-1e9c-467e-9d7d-00edbbcb58d9"
      },
      "execution_count": 43,
      "outputs": [
        {
          "output_type": "stream",
          "name": "stdout",
          "text": [
            "ukhTlk4P\n",
            "vdWy4CUA\n",
            "nZAy7H7\n",
            "OHu8Ux\n",
            "Mc0DO1C\n",
            "wyxAoc\n",
            "2kQkgVr\n",
            "eR7nIDqG\n",
            "aZAm3z\n",
            "t5AiLN\n",
            "jJ2RTqC\n",
            "UPNbnCp\n",
            "9iWYjbYO\n",
            "lUMV2Wox\n",
            "J1S1ywQ\n",
            "qspv5k0W\n",
            "qOmVtfy2\n",
            "4swFMtd1\n",
            "UbHEnp4u\n",
            "1yK3hBj\n",
            "o8qrbzO\n",
            "5I3j3PI\n",
            "ZgBePcsi\n",
            "iyGYFL\n",
            "4cJqHj56\n",
            "QGi4LF\n",
            "Aayqxoo\n",
            "X0Sdm6P\n",
            "0DgF7DD\n",
            "VZ4Gojx3\n",
            "QgNJnYcL\n",
            "mKUSLR2\n",
            "Ekn72AYc\n",
            "Hm5G0R96\n",
            "e8Ksxtd\n",
            "SkNqz5G\n",
            "tJLVNW77\n",
            "FeBtmAw\n",
            "CSJvIh6m\n",
            "ozpV2Nln\n",
            "Ly1Eo0\n",
            "6SJ8J6P\n",
            "fAwvnY\n",
            "t88Eej\n",
            "QE1CQxUK\n",
            "XSTwbKMf\n",
            "uFt9Lw\n",
            "VWlaDyp\n",
            "K9vhii\n",
            "mWABAtQk\n",
            "zDHrVBJz\n",
            "T6gBUU\n",
            "RkxLy0qB\n",
            "r4zyQs\n",
            "7XLluezU\n",
            "m6zvimUa\n",
            "EPFtHXSt\n",
            "gAGQ45\n",
            "p5MDiFxB\n",
            "w22hx7\n",
            "7e7gn0BV\n",
            "mfuk25\n",
            "LdkOU5\n",
            "KApmfoAv\n",
            "YAeBV6\n",
            "m0pCb8el\n",
            "pqzg8t\n",
            "1OAzGE\n",
            "zEDbMoKn\n",
            "CrxW1jq\n",
            "1rbc2i\n",
            "aITRG7\n",
            "B2jUw7\n",
            "A703Yf\n",
            "jN3FqB\n",
            "eSPZIl9\n",
            "tPvsPz\n",
            "OWIuGj8x\n",
            "3IYyQf\n",
            "lQO1OZcl\n",
            "LFoJilYH\n",
            "iu088lzV\n",
            "4VGORkW7\n",
            "FgrJy5\n",
            "aOb7p6qq\n",
            "esTnwT\n",
            "EMTIR0kB\n",
            "ph3StWSP\n",
            "W37wKQ\n",
            "3XDorPj\n",
            "LASc3c\n",
            "F7etHLB\n",
            "Ua7oKX8g\n",
            "BHbvgmjN\n",
            "s0z47Q\n",
            "cgQg9H4\n",
            "AC5GVoLb\n",
            "DN1trI3\n",
            "koOrmEO\n",
            "bg88Oc\n"
          ]
        }
      ]
    },
    {
      "cell_type": "code",
      "source": [
        "def IsPrime(n):\n",
        "    if n < 2:\n",
        "        return False\n",
        "    for i in range(2, int(n**0.5)+1):\n",
        "        if n % i == 0:\n",
        "            return False\n",
        "    return True\n",
        "\n",
        "\n",
        "for i in range(600,800):\n",
        "  if IsPrime(i):\n",
        "    print(i)"
      ],
      "metadata": {
        "colab": {
          "base_uri": "https://localhost:8080/"
        },
        "id": "KBJgtuufikhI",
        "outputId": "22b2b9bb-9277-41f4-b4a9-521cfb9b458b"
      },
      "execution_count": 44,
      "outputs": [
        {
          "output_type": "stream",
          "name": "stdout",
          "text": [
            "601\n",
            "607\n",
            "613\n",
            "617\n",
            "619\n",
            "631\n",
            "641\n",
            "643\n",
            "647\n",
            "653\n",
            "659\n",
            "661\n",
            "673\n",
            "677\n",
            "683\n",
            "691\n",
            "701\n",
            "709\n",
            "719\n",
            "727\n",
            "733\n",
            "739\n",
            "743\n",
            "751\n",
            "757\n",
            "761\n",
            "769\n",
            "773\n",
            "787\n",
            "797\n"
          ]
        }
      ]
    },
    {
      "cell_type": "code",
      "source": [
        "for i in range(100,1000):\n",
        "  if(i % 7 == 0 and i % 9 ==0):\n",
        "    print(i)"
      ],
      "metadata": {
        "colab": {
          "base_uri": "https://localhost:8080/"
        },
        "id": "_wmL84TIjMZq",
        "outputId": "490f3f5d-ce76-48ec-e2a6-2248ab44539b"
      },
      "execution_count": 45,
      "outputs": [
        {
          "output_type": "stream",
          "name": "stdout",
          "text": [
            "126\n",
            "189\n",
            "252\n",
            "315\n",
            "378\n",
            "441\n",
            "504\n",
            "567\n",
            "630\n",
            "693\n",
            "756\n",
            "819\n",
            "882\n",
            "945\n"
          ]
        }
      ]
    },
    {
      "cell_type": "code",
      "source": [
        "''' Question 5 '''\n",
        "import random\n",
        "\n",
        "# Create two lists of 10 random numbers between 10 and 30\n",
        "list1 = [random.randint(10, 30) for _ in range(10)]\n",
        "list2 = [random.randint(10, 30) for _ in range(10)]\n",
        "\n",
        "print(\"List 1:\", list1)\n",
        "print(\"List 2:\", list2)\n",
        "\n",
        "# (i) Common numbers\n",
        "common = list(set(list1) & set(list2))\n",
        "print(\"\\n(i) Common numbers:\", common)\n",
        "\n",
        "# (ii) Unique numbers (present in one list but not both)\n",
        "unique = list((set(list1) ^ set(list2)))\n",
        "print(\"(ii) Unique numbers in both lists:\", unique)\n",
        "\n",
        "# (iii) Minimum in both lists\n",
        "print(\"(iii) Minimum in List 1:\", min(list1))\n",
        "print(\"      Minimum in List 2:\", min(list2))\n",
        "\n",
        "# (iv) Maximum in both lists\n",
        "print(\"(iv) Maximum in List 1:\", max(list1))\n",
        "print(\"      Maximum in List 2:\", max(list2))\n",
        "\n",
        "# (v) Sum of both lists\n",
        "print(\"(v) Sum of List 1:\", sum(list1))\n",
        "print(\"    Sum of List 2:\", sum(list2))\n"
      ],
      "metadata": {
        "colab": {
          "base_uri": "https://localhost:8080/"
        },
        "id": "RKeJkPksjaTS",
        "outputId": "06233eb0-0c49-4c0e-ced6-888805008f28"
      },
      "execution_count": 46,
      "outputs": [
        {
          "output_type": "stream",
          "name": "stdout",
          "text": [
            "List 1: [19, 15, 14, 23, 20, 10, 22, 27, 26, 11]\n",
            "List 2: [10, 29, 24, 25, 21, 20, 27, 18, 20, 25]\n",
            "\n",
            "(i) Common numbers: [10, 27, 20]\n",
            "(ii) Unique numbers in both lists: [11, 14, 15, 18, 19, 21, 22, 23, 24, 25, 26, 29]\n",
            "(iii) Minimum in List 1: 10\n",
            "      Minimum in List 2: 10\n",
            "(iv) Maximum in List 1: 27\n",
            "      Maximum in List 2: 29\n",
            "(v) Sum of List 1: 187\n",
            "    Sum of List 2: 219\n"
          ]
        }
      ]
    },
    {
      "cell_type": "code",
      "source": [
        "import random\n",
        "\n",
        "list1 = [random.randint(100, 900) for _ in range(100)]\n",
        "\n",
        "def IsPrimeN(n):\n",
        "      if (n<2):\n",
        "        return False\n",
        "      for i in range(2 , int(n ** 0.5 )+1):\n",
        "        if(n % i == 0):\n",
        "          return False\n",
        "      return True\n",
        "\n",
        "def IsOdd(n):\n",
        "    if(n % 2 != 0):\n",
        "      return True\n",
        "\n",
        "\n",
        "def IsEven(n):\n",
        "    if(n % 2 == 0):\n",
        "      return True\n",
        "\n",
        "odd = []\n",
        "even = []\n",
        "prime = []\n",
        "\n",
        "primeNums = 0\n",
        "oddNums = 0\n",
        "evenNums = 0\n",
        "\n",
        "for i in list1:\n",
        "  if (IsOdd(i)):\n",
        "    oddNums += 1\n",
        "    odd.append(i)\n",
        "\n",
        "  if (IsEven(i)):\n",
        "    evenNums += 1\n",
        "    even.append(i)\n",
        "\n",
        "  if (IsPrimeN(i)):\n",
        "    prime.append(i)\n",
        "    primeNums += 1\n",
        "\n",
        "print(f'Odd Numbers {odd}')\n",
        "print(f'Total odd numbers {oddNums}')\n",
        "print(f'Even Numbers {even}')\n",
        "print(f'Total evven numbers {evenNums}')\n",
        "print(f'Prime Numbers {prime}')\n",
        "print(f'Total prime numbers {primeNums}')\n",
        "\n",
        "\n"
      ],
      "metadata": {
        "colab": {
          "base_uri": "https://localhost:8080/"
        },
        "id": "d9mvsXoJl0zJ",
        "outputId": "e6fbbd1d-8803-42cc-f405-9a7a2b83a714"
      },
      "execution_count": 47,
      "outputs": [
        {
          "output_type": "stream",
          "name": "stdout",
          "text": [
            "Odd Numbers [575, 671, 195, 229, 531, 259, 737, 613, 659, 531, 257, 727, 435, 533, 233, 599, 307, 801, 163, 537, 111, 571, 887, 667, 739, 441, 449, 227, 237, 667, 893, 689, 801, 469, 363, 671, 863, 587, 193, 395, 585, 693, 119, 311, 779, 413, 831, 599, 525, 781, 871, 281, 389, 325, 723, 537]\n",
            "Total odd numbers 56\n",
            "Even Numbers [180, 884, 282, 622, 726, 530, 612, 872, 818, 648, 542, 306, 204, 640, 340, 172, 494, 840, 534, 566, 598, 180, 558, 182, 458, 140, 758, 142, 406, 568, 224, 210, 198, 624, 714, 730, 622, 532, 898, 778, 838, 298, 474, 376]\n",
            "Total evven numbers 44\n",
            "Prime Numbers [229, 613, 659, 257, 727, 233, 599, 307, 163, 571, 887, 739, 449, 227, 863, 587, 193, 311, 599, 281, 389]\n",
            "Total prime numbers 21\n"
          ]
        }
      ]
    },
    {
      "cell_type": "code",
      "source": [
        "''' Question 7 '''\n",
        "\n",
        "D = {1: \"One\", 2: \"Two\", 3: \"Three\", 4: \"Four\", 5: \"Five\"}\n",
        "\n",
        "with open(\"dictionary_output.txt\", \"w\") as file:\n",
        "    for key, value in D.items():\n",
        "        file.write(f\"{key}, {value}\\n\")\n",
        "\n",
        "print(\"Dictionary has been written to 'dictionary_output.txt'\")\n"
      ],
      "metadata": {
        "colab": {
          "base_uri": "https://localhost:8080/"
        },
        "id": "SZOV_6tuodNb",
        "outputId": "66bbdb23-49fc-43ce-9078-2239de3be859"
      },
      "execution_count": 48,
      "outputs": [
        {
          "output_type": "stream",
          "name": "stdout",
          "text": [
            "Dictionary has been written to 'dictionary_output.txt'\n"
          ]
        }
      ]
    },
    {
      "cell_type": "code",
      "source": [
        "''' Question 8 '''\n",
        "L = {\"One\", \"Two\", \"Three\", \"Four\", \"Five\"}\n",
        "\n",
        "with open(\"length_output.txt\", \"w\") as file:\n",
        "    for item in L:\n",
        "        file.write(f\"{item}, {len(item)}\\n\")\n"
      ],
      "metadata": {
        "id": "60-_KcndpUhn"
      },
      "execution_count": 49,
      "outputs": []
    },
    {
      "cell_type": "code",
      "source": [
        "''' Question 9 '''\n",
        "import random\n",
        "import string\n",
        "\n",
        "with open(\"random_strings.txt\", \"w\") as file:\n",
        "    for _ in range(100):\n",
        "        length = random.randint(10, 15)\n",
        "        rand_str = ''.join(random.choices(string.ascii_letters + string.digits, k=length))\n",
        "        file.write(rand_str + \"\\n\")\n"
      ],
      "metadata": {
        "id": "zv7a_cFVpuFH"
      },
      "execution_count": 50,
      "outputs": []
    },
    {
      "cell_type": "code",
      "source": [
        "def is_prime(n):\n",
        "    if n < 2:\n",
        "        return False\n",
        "    for i in range(2, int(n**0.5) + 1):\n",
        "        if n % i == 0:\n",
        "            return False\n",
        "    return True\n",
        "\n",
        "with open(\"primes_600_800.txt\", \"w\") as file:\n",
        "    for num in range(600, 801):\n",
        "        if is_prime(num):\n",
        "            file.write(str(num) + \"\\n\")\n"
      ],
      "metadata": {
        "id": "F1v92H6eqJAB"
      },
      "execution_count": 51,
      "outputs": []
    },
    {
      "cell_type": "code",
      "source": [
        "import time\n",
        "\n",
        "start = time.time()\n",
        "\n",
        "# Sample code block\n",
        "for i in range(1000000):\n",
        "    pass\n",
        "\n",
        "end = time.time()\n",
        "\n",
        "print(\"Time taken:\", end - start, \"seconds\")\n"
      ],
      "metadata": {
        "colab": {
          "base_uri": "https://localhost:8080/"
        },
        "id": "zfTtlEtUqdvC",
        "outputId": "79f9ce0c-de53-4fbd-f0f3-aa972e1379a7"
      },
      "execution_count": 52,
      "outputs": [
        {
          "output_type": "stream",
          "name": "stdout",
          "text": [
            "Time taken: 0.041414499282836914 seconds\n"
          ]
        }
      ]
    },
    {
      "cell_type": "code",
      "source": [
        "import time\n",
        "import random\n",
        "import matplotlib.pyplot as plt\n",
        "\n",
        "sizes = [5000, 10000, 15000, 20000, 25000]\n",
        "times = []\n",
        "\n",
        "for size in sizes:\n",
        "    data = [random.randint(0, 100000) for _ in range(size)]\n",
        "    start_time = time.time()\n",
        "    sorted_data = sorted(data)\n",
        "    end_time = time.time()\n",
        "    times.append(end_time - start_time)\n",
        "\n",
        "plt.plot(sizes, times, marker='o', color='orange')\n",
        "plt.title('Sorting Time vs Number of Elements')\n",
        "plt.xlabel('Number of Elements')\n",
        "plt.ylabel('Time Taken (seconds)')\n",
        "plt.grid(True)\n",
        "plt.show()\n"
      ],
      "metadata": {
        "colab": {
          "base_uri": "https://localhost:8080/",
          "height": 472
        },
        "id": "9rC3KI-8qjl1",
        "outputId": "fec00ec9-ca71-41e9-e069-6d20c8ad5b4b"
      },
      "execution_count": 53,
      "outputs": [
        {
          "output_type": "display_data",
          "data": {
            "text/plain": [
              "<Figure size 640x480 with 1 Axes>"
            ],
            "image/png": "[encoded data removed]"
          },
          "metadata": {}
        }
      ]
    },
    {
      "cell_type": "code",
      "source": [
        "students = {\n",
        "    'Alice': [85, 90, 78, 92, 88],\n",
        "    'Bob': [70, 65, 72, 68, 74],\n",
        "    'Charlie': [95, 88, 91, 94, 90],\n",
        "    'David': [60, 62, 58, 65, 61],\n",
        "    'Eva': [80, 85, 82, 78, 84]\n",
        "}\n",
        "\n",
        "averages = {name: sum(marks)/len(marks) for name, marks in students.items()}\n",
        "\n",
        "max_student = max(averages, key=averages.get)\n",
        "min_student = min(averages, key=averages.get)\n",
        "\n",
        "print(\"Student with maximum average marks:\", max_student, \"->\", averages[max_student])\n",
        "print(\"Student with minimum average marks:\", min_student, \"->\", averages[min_student])\n"
      ],
      "metadata": {
        "colab": {
          "base_uri": "https://localhost:8080/"
        },
        "id": "v0_cUF0zrSwu",
        "outputId": "9efb6604-bedb-4d8e-da1d-a1c18d8a05b5"
      },
      "execution_count": 54,
      "outputs": [
        {
          "output_type": "stream",
          "name": "stdout",
          "text": [
            "Student with maximum average marks: Charlie -> 91.6\n",
            "Student with minimum average marks: David -> 61.2\n"
          ]
        }
      ]
    },
    {
      "cell_type": "code",
      "source": [],
      "metadata": {
        "id": "7m6G0bstrbqM"
      },
      "execution_count": 54,
      "outputs": []
    }
  ]
}