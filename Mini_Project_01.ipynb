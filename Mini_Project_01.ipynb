{
  "nbformat": 4,
  "nbformat_minor": 0,
  "metadata": {
    "colab": {
      "provenance": [],
      "authorship_tag": "ABX9TyNiK4DEzIsCiEZqtn3ebC3C",
      "include_colab_link": true
    },
    "kernelspec": {
      "name": "python3",
      "display_name": "Python 3"
    },
    "language_info": {
      "name": "python"
    }
  },
  "cells": [
    {
      "cell_type": "markdown",
      "metadata": {
        "id": "view-in-github",
        "colab_type": "text"
      },
      "source": [
        "<a href=\"https://colab.research.google.com/github/hellraider71/SummerSchool-1st/blob/main/Mini_Project_01.ipynb\" target=\"_parent\"><img src=\"https://colab.research.google.com/assets/colab-badge.svg\" alt=\"Open In Colab\"/></a>"
      ]
    },
    {
      "cell_type": "code",
      "execution_count": 16,
      "metadata": {
        "colab": {
          "base_uri": "https://localhost:8080/",
          "height": 106
        },
        "id": "FajvVYGgUVTz",
        "outputId": "2c5549d8-f912-4803-acfd-294422a01739"
      },
      "outputs": [
        {
          "output_type": "error",
          "ename": "SyntaxError",
          "evalue": "incomplete input (<ipython-input-16-1321429320>, line 11)",
          "traceback": [
            "\u001b[0;36m  File \u001b[0;32m\"<ipython-input-16-1321429320>\"\u001b[0;36m, line \u001b[0;32m11\u001b[0m\n\u001b[0;31m    for i in L:\u001b[0m\n\u001b[0m               ^\u001b[0m\n\u001b[0;31mSyntaxError\u001b[0m\u001b[0;31m:\u001b[0m incomplete input\n"
          ]
        }
      ],
      "source": [
        "L = [11, 12, 13, 14]\n",
        "\n",
        "#(i)\n",
        "L.append(50)\n",
        "L.append(60)\n",
        "\n",
        "print(L)\n",
        "\n",
        "\n"
      ]
    },
    {
      "cell_type": "code",
      "source": [
        "L = [11, 12, 13, 14]\n",
        "\n",
        "#(ii)\n",
        "L.remove(11)\n",
        "L.remove(13)\n",
        "\n",
        "print(L)"
      ],
      "metadata": {
        "colab": {
          "base_uri": "https://localhost:8080/"
        },
        "id": "9W_inpz3WOtH",
        "outputId": "fea11140-118a-4c84-e6f3-51a8de5184ac"
      },
      "execution_count": 8,
      "outputs": [
        {
          "output_type": "stream",
          "name": "stdout",
          "text": [
            "[12, 14]\n"
          ]
        }
      ]
    },
    {
      "cell_type": "code",
      "source": [
        "L = [11, 12, 13, 14]\n",
        "#(iii)\n",
        "L.sort()\n",
        "print(L)\n"
      ],
      "metadata": {
        "colab": {
          "base_uri": "https://localhost:8080/"
        },
        "id": "kpU8JcObWyx4",
        "outputId": "d0b505fa-e0b1-436e-95ff-137646e73d56"
      },
      "execution_count": 10,
      "outputs": [
        {
          "output_type": "stream",
          "name": "stdout",
          "text": [
            "[11, 12, 13, 14]\n"
          ]
        }
      ]
    },
    {
      "cell_type": "code",
      "source": [
        "L = [11, 12, 13, 14]\n",
        "#(iv)\n",
        "L.sort(reverse=True)\n",
        "print(L)"
      ],
      "metadata": {
        "colab": {
          "base_uri": "https://localhost:8080/"
        },
        "id": "nBKO7lY1W36a",
        "outputId": "085d2b90-12f2-4117-84b8-6fa602259bb8"
      },
      "execution_count": 11,
      "outputs": [
        {
          "output_type": "stream",
          "name": "stdout",
          "text": [
            "[14, 13, 12, 11]\n"
          ]
        }
      ]
    },
    {
      "cell_type": "code",
      "source": [
        "L = [11, 12, 13, 14]\n",
        "#(v)\n",
        "for i in L:\n",
        "  if i == 13:\n",
        "    print(f'Found {i}')"
      ],
      "metadata": {
        "colab": {
          "base_uri": "https://localhost:8080/"
        },
        "id": "toWuHmE2W9S2",
        "outputId": "1846c9dc-edbc-479e-cd15-cb517a8b7f71"
      },
      "execution_count": 13,
      "outputs": [
        {
          "output_type": "stream",
          "name": "stdout",
          "text": [
            "Found 13\n"
          ]
        }
      ]
    },
    {
      "cell_type": "code",
      "source": [
        "L = [11, 12, 13, 14]\n",
        "#(vi)\n",
        "ln = len(L)\n",
        "print(f\"Length is {ln}\")"
      ],
      "metadata": {
        "colab": {
          "base_uri": "https://localhost:8080/"
        },
        "id": "Hyb3tHB6XQCN",
        "outputId": "4bdf9c12-552f-4575-a7f5-04745196da45"
      },
      "execution_count": 15,
      "outputs": [
        {
          "output_type": "stream",
          "name": "stdout",
          "text": [
            "Length is 4\n"
          ]
        }
      ]
    },
    {
      "cell_type": "code",
      "source": [
        "L = [11, 12, 13, 14]\n",
        "#(vii)\n",
        "s = 0\n",
        "for i in L:\n",
        "  s += i\n",
        "\n",
        "print(f\"Sum is {s}\")"
      ],
      "metadata": {
        "colab": {
          "base_uri": "https://localhost:8080/"
        },
        "id": "IRtUp9Q0XcZH",
        "outputId": "8f85ab12-e9c1-4665-c7c3-132688192a5a"
      },
      "execution_count": 19,
      "outputs": [
        {
          "output_type": "stream",
          "name": "stdout",
          "text": [
            "Sum is 50\n"
          ]
        }
      ]
    },
    {
      "cell_type": "code",
      "source": [
        "L = [11, 12, 13, 14]\n",
        "#(viii)\n",
        "s = 0\n",
        "for i in L:\n",
        "  if (i % 2 != 0):\n",
        "    s += i\n",
        "\n",
        "print(f\"Sum is {s}\")"
      ],
      "metadata": {
        "colab": {
          "base_uri": "https://localhost:8080/"
        },
        "id": "ob2DPftOXhl_",
        "outputId": "80837612-543f-43e4-ad7f-32cf33d707c6"
      },
      "execution_count": 20,
      "outputs": [
        {
          "output_type": "stream",
          "name": "stdout",
          "text": [
            "Sum is 24\n"
          ]
        }
      ]
    },
    {
      "cell_type": "code",
      "source": [
        "L = [11, 12, 13, 14]\n",
        "#(ix)\n",
        "s = 0\n",
        "for i in L:\n",
        "  if (i % 2 == 0):\n",
        "    s += i\n",
        "\n",
        "print(f\"Sum is {s}\")"
      ],
      "metadata": {
        "colab": {
          "base_uri": "https://localhost:8080/"
        },
        "id": "5Af2zgZgX_3T",
        "outputId": "da1848b9-a4c1-4f71-d0ad-a68d73b81c2c"
      },
      "execution_count": 22,
      "outputs": [
        {
          "output_type": "stream",
          "name": "stdout",
          "text": [
            "Sum is 26\n"
          ]
        }
      ]
    },
    {
      "cell_type": "code",
      "source": [
        "#(x)\n",
        "def IsPrime(n):\n",
        "    if n < 2:\n",
        "        return False\n",
        "    for i in range(2, int(n**0.5)+1):\n",
        "        if n % i == 0:\n",
        "            return False\n",
        "    return True\n",
        "\n",
        "L = [11, 12, 13, 14]\n",
        "sum_of_primes = 0\n",
        "\n",
        "for i in L:\n",
        "    if IsPrime(i):\n",
        "        sum_of_primes += i\n",
        "\n",
        "print(f\"Sum is {sum_of_primes}\")\n"
      ],
      "metadata": {
        "colab": {
          "base_uri": "https://localhost:8080/"
        },
        "id": "WkAmvt-qYLgR",
        "outputId": "7daed43b-0a9a-4481-99fd-3f299ecc541e"
      },
      "execution_count": 26,
      "outputs": [
        {
          "output_type": "stream",
          "name": "stdout",
          "text": [
            "Sum is 24\n"
          ]
        }
      ]
    },
    {
      "cell_type": "code",
      "source": [
        "L = [11, 12, 13, 14]\n",
        "#(xi)\n",
        "L.clear()\n",
        "\n",
        "print(L)"
      ],
      "metadata": {
        "colab": {
          "base_uri": "https://localhost:8080/"
        },
        "id": "pWK09j3hZ26T",
        "outputId": "b5a50a58-4be0-4dd9-a4cf-a17aec5268fa"
      },
      "execution_count": 28,
      "outputs": [
        {
          "output_type": "stream",
          "name": "stdout",
          "text": [
            "[]\n"
          ]
        }
      ]
    },
    {
      "cell_type": "code",
      "source": [
        "L = [11, 12, 13, 14]\n",
        "#(xii)\n",
        "del L\n",
        "print(L)"
      ],
      "metadata": {
        "colab": {
          "base_uri": "https://localhost:8080/",
          "height": 176
        },
        "id": "-okBlplkaBiu",
        "outputId": "074e16e1-6c84-4887-a333-b7e9369de6fe"
      },
      "execution_count": 30,
      "outputs": [
        {
          "output_type": "error",
          "ename": "NameError",
          "evalue": "name 'L' is not defined",
          "traceback": [
            "\u001b[0;31m---------------------------------------------------------------------------\u001b[0m",
            "\u001b[0;31mNameError\u001b[0m                                 Traceback (most recent call last)",
            "\u001b[0;32m<ipython-input-30-439147349>\u001b[0m in \u001b[0;36m<cell line: 0>\u001b[0;34m()\u001b[0m\n\u001b[1;32m      2\u001b[0m \u001b[0;31m#(xii)\u001b[0m\u001b[0;34m\u001b[0m\u001b[0;34m\u001b[0m\u001b[0m\n\u001b[1;32m      3\u001b[0m \u001b[0;32mdel\u001b[0m \u001b[0mL\u001b[0m\u001b[0;34m\u001b[0m\u001b[0;34m\u001b[0m\u001b[0m\n\u001b[0;32m----> 4\u001b[0;31m \u001b[0mprint\u001b[0m\u001b[0;34m(\u001b[0m\u001b[0mL\u001b[0m\u001b[0;34m)\u001b[0m\u001b[0;34m\u001b[0m\u001b[0;34m\u001b[0m\u001b[0m\n\u001b[0m",
            "\u001b[0;31mNameError\u001b[0m: name 'L' is not defined"
          ]
        }
      ]
    },
    {
      "cell_type": "code",
      "source": [
        "''' Question 2 '''\n",
        "D = {1:5.6, 2:7.8, 3:6.6, 4:8.7, 5:7.7}\n",
        "\n",
        "#(i)\n",
        "D[8] = 8.8\n",
        "\n",
        "print(D)"
      ],
      "metadata": {
        "colab": {
          "base_uri": "https://localhost:8080/"
        },
        "id": "_QViW4v9adrr",
        "outputId": "72406437-eb5a-4720-c7d6-d12d4d7dff80"
      },
      "execution_count": 35,
      "outputs": [
        {
          "output_type": "stream",
          "name": "stdout",
          "text": [
            "{1: 5.6, 2: 7.8, 3: 6.6, 4: 8.7, 5: 7.7, 8: 8.8}\n"
          ]
        }
      ]
    },
    {
      "cell_type": "code",
      "source": [
        "D = {1:5.6, 2:7.8, 3:6.6, 4:8.7, 5:7.7}\n",
        "\n",
        "#(ii)\n",
        "\n",
        "D.pop(2)\n",
        "\n",
        "print(D)"
      ],
      "metadata": {
        "colab": {
          "base_uri": "https://localhost:8080/"
        },
        "id": "N2vgCQ-6a87d",
        "outputId": "dbc597af-fdac-49de-e1e9-c170c9793aea"
      },
      "execution_count": 45,
      "outputs": [
        {
          "output_type": "stream",
          "name": "stdout",
          "text": [
            "{1: 5.6, 3: 6.6, 4: 8.7, 5: 7.7}\n"
          ]
        }
      ]
    },
    {
      "cell_type": "code",
      "source": [
        "D = {1:5.6, 2:7.8, 3:6.6, 4:8.7, 5:7.7}\n",
        "if D.get(6):\n",
        "   print('True')\n",
        "else:\n",
        "  print('False')"
      ],
      "metadata": {
        "colab": {
          "base_uri": "https://localhost:8080/"
        },
        "id": "sZJiuE7UbZID",
        "outputId": "3026d4e8-1f21-45f1-ae3d-2b7487062e84"
      },
      "execution_count": 43,
      "outputs": [
        {
          "output_type": "stream",
          "name": "stdout",
          "text": [
            "False\n"
          ]
        }
      ]
    },
    {
      "cell_type": "code",
      "source": [
        "D = {1:5.6, 2:7.8, 3:6.6, 4:8.7, 5:7.7}\n",
        "ln = len(D)\n",
        "print(ln)"
      ],
      "metadata": {
        "colab": {
          "base_uri": "https://localhost:8080/"
        },
        "id": "RAe4XfjDcDKI",
        "outputId": "e3d814c4-6291-405b-89f3-83daa4683790"
      },
      "execution_count": 46,
      "outputs": [
        {
          "output_type": "stream",
          "name": "stdout",
          "text": [
            "5\n"
          ]
        }
      ]
    },
    {
      "cell_type": "code",
      "source": [
        "D = {1: 5.6, 2: 7.8, 3: 6.6, 4: 8.7, 5: 7.7}\n",
        "\n",
        "total = sum(D.values())\n",
        "\n",
        "print(f\"Sum of all values: {total}\")\n"
      ],
      "metadata": {
        "colab": {
          "base_uri": "https://localhost:8080/"
        },
        "id": "8Y6gRdv5caes",
        "outputId": "f5d5557e-f18d-4f24-a322-78c9ffc96e2c"
      },
      "execution_count": 1,
      "outputs": [
        {
          "output_type": "stream",
          "name": "stdout",
          "text": [
            "Sum of all values: 36.4\n"
          ]
        }
      ]
    },
    {
      "cell_type": "code",
      "source": [
        "D = {1: 5.6, 2: 7.8, 3: 6.6, 4: 8.7, 5: 7.7}\n",
        "\n",
        "D.update({3:7.1})\n",
        "\n",
        "print(D)"
      ],
      "metadata": {
        "colab": {
          "base_uri": "https://localhost:8080/"
        },
        "id": "WJcIGZ4BckKo",
        "outputId": "18075d9b-86ad-43c2-89b1-6b5315763da9"
      },
      "execution_count": 5,
      "outputs": [
        {
          "output_type": "stream",
          "name": "stdout",
          "text": [
            "{1: 5.6, 2: 7.8, 3: 7.1, 4: 8.7, 5: 7.7}\n"
          ]
        }
      ]
    },
    {
      "cell_type": "code",
      "source": [
        "D = {1: 5.6, 2: 7.8, 3: 6.6, 4: 8.7, 5: 7.7}\n",
        "\n",
        "D.clear\n",
        "\n",
        "print(D)"
      ],
      "metadata": {
        "colab": {
          "base_uri": "https://localhost:8080/"
        },
        "id": "Ie_kGR9xdlxz",
        "outputId": "e05a854d-d083-4800-c9e2-2dc8eafa0eec"
      },
      "execution_count": 6,
      "outputs": [
        {
          "output_type": "stream",
          "name": "stdout",
          "text": [
            "{1: 5.6, 2: 7.8, 3: 6.6, 4: 8.7, 5: 7.7}\n"
          ]
        }
      ]
    },
    {
      "cell_type": "code",
      "source": [
        "''' Question 3 '''\n",
        "S1 = {10, 20, 30, 40, 50, 60}\n",
        "\n",
        "S2 = {40, 50, 60, 70, 80, 90}\n",
        "\n",
        "type(S1)\n",
        "S1.add(55)\n",
        "S1.add(61)\n",
        "\n",
        "print(S1)"
      ],
      "metadata": {
        "colab": {
          "base_uri": "https://localhost:8080/"
        },
        "id": "Y19M_fewdtsA",
        "outputId": "d5252cb9-da87-4131-a51d-fd381f038c1e"
      },
      "execution_count": 14,
      "outputs": [
        {
          "output_type": "stream",
          "name": "stdout",
          "text": [
            "{50, 20, 55, 40, 10, 60, 61, 30}\n"
          ]
        }
      ]
    },
    {
      "cell_type": "code",
      "source": [
        "S1 = {10, 20, 30, 40, 50, 60}\n",
        "\n",
        "S2 = {40, 50, 60, 70, 80, 90}\n",
        "\n",
        "S1.remove(10)\n",
        "S1.remove(30)\n",
        "\n",
        "print(S1)"
      ],
      "metadata": {
        "colab": {
          "base_uri": "https://localhost:8080/"
        },
        "id": "iHgOjg5afd8I",
        "outputId": "746235fd-e7be-4b26-ecf1-a25c88b89387"
      },
      "execution_count": 20,
      "outputs": [
        {
          "output_type": "stream",
          "name": "stdout",
          "text": [
            "{50, 20, 40, 60}\n"
          ]
        }
      ]
    },
    {
      "cell_type": "code",
      "source": [
        "S1 = {10, 20, 30, 40, 50, 60}\n",
        "\n",
        "S2 = {40, 50, 60, 70, 80, 90}\n",
        "i = 0\n",
        "if i in S1:\n",
        "  if i == 40:\n",
        "    print(\"40 is present\")\n"
      ],
      "metadata": {
        "id": "14kIUeqSguBj"
      },
      "execution_count": 22,
      "outputs": []
    },
    {
      "cell_type": "code",
      "source": [
        "S1 = {10, 20, 30, 40, 50, 60}\n",
        "S2 = {40, 50, 60, 70, 80, 90}\n",
        "\n",
        "union_set = S1.union(S2)\n",
        "print(f\"Union: {union_set}\")\n"
      ],
      "metadata": {
        "colab": {
          "base_uri": "https://localhost:8080/"
        },
        "id": "AYmXMcpzhJ2M",
        "outputId": "a6fd35d4-a789-4e19-f4e7-c826185af0a3"
      },
      "execution_count": 23,
      "outputs": [
        {
          "output_type": "stream",
          "name": "stdout",
          "text": [
            "Union: {70, 40, 10, 80, 50, 20, 90, 60, 30}\n"
          ]
        }
      ]
    },
    {
      "cell_type": "code",
      "source": [
        "S1 = {10, 20, 30, 40, 50, 60}\n",
        "S2 = {40, 50, 60, 70, 80, 90}\n",
        "\n",
        "intersection_set = S1.intersection(S2)\n",
        "print(f\"Intersection: {intersection_set}\")\n"
      ],
      "metadata": {
        "colab": {
          "base_uri": "https://localhost:8080/"
        },
        "id": "4IFuMtP-hURk",
        "outputId": "454ccde0-f8b1-41ac-cb82-94e3fac39e05"
      },
      "execution_count": 24,
      "outputs": [
        {
          "output_type": "stream",
          "name": "stdout",
          "text": [
            "Intersection: {40, 50, 60}\n"
          ]
        }
      ]
    },
    {
      "cell_type": "code",
      "source": [
        "S3 = S1 - S2\n",
        "print(S3)"
      ],
      "metadata": {
        "colab": {
          "base_uri": "https://localhost:8080/"
        },
        "id": "UtEWFWXYhdp5",
        "outputId": "9ef50b38-08fa-48b6-9e84-4081c0261a0b"
      },
      "execution_count": 26,
      "outputs": [
        {
          "output_type": "stream",
          "name": "stdout",
          "text": [
            "{10, 20, 30}\n"
          ]
        }
      ]
    },
    {
      "cell_type": "code",
      "source": [
        "''' Queestion 4 '''\n",
        "#(i)\n",
        "import random\n",
        "import string\n",
        "\n",
        "for _ in range(100):\n",
        "    length = random.randint(6, 8)  # Random length between 6 and 8\n",
        "    rand_str = ''.join(random.choices(string.ascii_letters + string.digits, k=length))\n",
        "    print(rand_str)\n"
      ],
      "metadata": {
        "colab": {
          "base_uri": "https://localhost:8080/"
        },
        "id": "G1m4f0wwhgzb",
        "outputId": "d57ce76c-6d67-48ad-cd51-cb3f61154cff"
      },
      "execution_count": 27,
      "outputs": [
        {
          "output_type": "stream",
          "name": "stdout",
          "text": [
            "tZzdNBCs\n",
            "HhHdJR\n",
            "S1zVKPxH\n",
            "bI2gEL\n",
            "WZvqpqE\n",
            "BqRYKBW\n",
            "CzxkuDM\n",
            "oh43TT\n",
            "zjJjDcUc\n",
            "egC4cuD\n",
            "Ofji4p\n",
            "qIDnSXXd\n",
            "XE31tx\n",
            "NeXT5DnN\n",
            "z2EaJIOH\n",
            "4VvRhJmg\n",
            "egepLi\n",
            "5GqTAZ\n",
            "vR6E6UUO\n",
            "m8aUdJGI\n",
            "nEfHQge\n",
            "SEFewUpa\n",
            "laM4XUM\n",
            "FUQmhif4\n",
            "dlHrfRd\n",
            "qoNBil\n",
            "KIkflv\n",
            "rOWd5qbn\n",
            "BlG2VhVh\n",
            "9Rg6usl9\n",
            "pAqroI\n",
            "I2PgLGUH\n",
            "8e4ZqEA\n",
            "71K4lK7\n",
            "6HQvZZi\n",
            "IiwQECix\n",
            "p9JkiUnM\n",
            "VjMSLMi5\n",
            "wqlky6F\n",
            "J6Ghikq\n",
            "KhRslx2L\n",
            "Jcyo4PO\n",
            "gtBfF0\n",
            "3pbvaAob\n",
            "EWxyPo\n",
            "LqGc15cL\n",
            "tpVoXh7q\n",
            "6cxJ9t\n",
            "wLR4CgCs\n",
            "BjoRxa\n",
            "Pp9MjB\n",
            "e3iHQz7\n",
            "sHXxC5s7\n",
            "LTHODFt\n",
            "9l9ffmr\n",
            "P1m8Pi\n",
            "z6PBNHFq\n",
            "oPK6jTZQ\n",
            "wyfwRCDp\n",
            "mrYdhC\n",
            "uKtFpLhM\n",
            "4HTKKp\n",
            "HN6IikdI\n",
            "Au1SXgO5\n",
            "ZvwBuws9\n",
            "4FjOTt\n",
            "SV9eRTyN\n",
            "KVIoLQI\n",
            "nNgRn1WW\n",
            "AxpMgZHk\n",
            "VMKC44\n",
            "YmBC2S\n",
            "7VlDkwC\n",
            "QzM1sjea\n",
            "hUGxvvf\n",
            "DHSwQI4F\n",
            "akKLeRDl\n",
            "IkfkK2\n",
            "EIencJ\n",
            "aiywWt\n",
            "dWEaoRv\n",
            "91KNIbO\n",
            "IvK7Mza\n",
            "cXQwc0Fk\n",
            "6A1uAd\n",
            "wFyTEb\n",
            "6T9d3K1\n",
            "UYi822T\n",
            "pUf2klRv\n",
            "3jmWKlF\n",
            "neLQaY\n",
            "2hlaDrc\n",
            "nqJeRSTY\n",
            "o6om8sR\n",
            "I8iaiPMo\n",
            "USy7X5qF\n",
            "hEUbT4\n",
            "X59SR3\n",
            "4rh1FOR\n",
            "cmh8pXdl\n"
          ]
        }
      ]
    },
    {
      "cell_type": "code",
      "source": [
        "def IsPrime(n):\n",
        "    if n < 2:\n",
        "        return False\n",
        "    for i in range(2, int(n**0.5)+1):\n",
        "        if n % i == 0:\n",
        "            return False\n",
        "    return True\n",
        "\n",
        "\n",
        "for i in range(600,800):\n",
        "  if IsPrime(i):\n",
        "    print(i)"
      ],
      "metadata": {
        "colab": {
          "base_uri": "https://localhost:8080/"
        },
        "id": "KBJgtuufikhI",
        "outputId": "d3674915-4c2f-491d-8e8e-31393c37766b"
      },
      "execution_count": 28,
      "outputs": [
        {
          "output_type": "stream",
          "name": "stdout",
          "text": [
            "601\n",
            "607\n",
            "613\n",
            "617\n",
            "619\n",
            "631\n",
            "641\n",
            "643\n",
            "647\n",
            "653\n",
            "659\n",
            "661\n",
            "673\n",
            "677\n",
            "683\n",
            "691\n",
            "701\n",
            "709\n",
            "719\n",
            "727\n",
            "733\n",
            "739\n",
            "743\n",
            "751\n",
            "757\n",
            "761\n",
            "769\n",
            "773\n",
            "787\n",
            "797\n"
          ]
        }
      ]
    },
    {
      "cell_type": "code",
      "source": [
        "for i in range(100,1000):\n",
        "  if(i % 7 == 0 and i % 9 ==0):\n",
        "    print(i)"
      ],
      "metadata": {
        "colab": {
          "base_uri": "https://localhost:8080/"
        },
        "id": "_wmL84TIjMZq",
        "outputId": "c9713fe4-1118-4218-8f9f-52e1820a6e7f"
      },
      "execution_count": 29,
      "outputs": [
        {
          "output_type": "stream",
          "name": "stdout",
          "text": [
            "126\n",
            "189\n",
            "252\n",
            "315\n",
            "378\n",
            "441\n",
            "504\n",
            "567\n",
            "630\n",
            "693\n",
            "756\n",
            "819\n",
            "882\n",
            "945\n"
          ]
        }
      ]
    },
    {
      "cell_type": "code",
      "source": [
        "''' Question 5 '''\n",
        "import random\n",
        "\n",
        "# Create two lists of 10 random numbers between 10 and 30\n",
        "list1 = [random.randint(10, 30) for _ in range(10)]\n",
        "list2 = [random.randint(10, 30) for _ in range(10)]\n",
        "\n",
        "print(\"List 1:\", list1)\n",
        "print(\"List 2:\", list2)\n",
        "\n",
        "# (i) Common numbers\n",
        "common = list(set(list1) & set(list2))\n",
        "print(\"\\n(i) Common numbers:\", common)\n",
        "\n",
        "# (ii) Unique numbers (present in one list but not both)\n",
        "unique = list((set(list1) ^ set(list2)))\n",
        "print(\"(ii) Unique numbers in both lists:\", unique)\n",
        "\n",
        "# (iii) Minimum in both lists\n",
        "print(\"(iii) Minimum in List 1:\", min(list1))\n",
        "print(\"      Minimum in List 2:\", min(list2))\n",
        "\n",
        "# (iv) Maximum in both lists\n",
        "print(\"(iv) Maximum in List 1:\", max(list1))\n",
        "print(\"      Maximum in List 2:\", max(list2))\n",
        "\n",
        "# (v) Sum of both lists\n",
        "print(\"(v) Sum of List 1:\", sum(list1))\n",
        "print(\"    Sum of List 2:\", sum(list2))\n"
      ],
      "metadata": {
        "colab": {
          "base_uri": "https://localhost:8080/"
        },
        "id": "RKeJkPksjaTS",
        "outputId": "c8344b12-01a0-4876-8664-c2e6f7c0ea59"
      },
      "execution_count": 30,
      "outputs": [
        {
          "output_type": "stream",
          "name": "stdout",
          "text": [
            "List 1: [27, 20, 29, 11, 23, 17, 25, 28, 15, 10]\n",
            "List 2: [11, 19, 11, 24, 18, 30, 20, 29, 10, 30]\n",
            "\n",
            "(i) Common numbers: [10, 11, 20, 29]\n",
            "(ii) Unique numbers in both lists: [15, 17, 18, 19, 23, 24, 25, 27, 28, 30]\n",
            "(iii) Minimum in List 1: 10\n",
            "      Minimum in List 2: 10\n",
            "(iv) Maximum in List 1: 29\n",
            "      Maximum in List 2: 30\n",
            "(v) Sum of List 1: 205\n",
            "    Sum of List 2: 202\n"
          ]
        }
      ]
    },
    {
      "cell_type": "code",
      "source": [
        "import random\n",
        "\n",
        "list1 = [random.randint(100, 900) for _ in range(100)]\n",
        "\n",
        "def IsPrimeN(n):\n",
        "      if (n<2):\n",
        "        return False\n",
        "      for i in range(2 , int(n ** 0.5 )+1):\n",
        "        if(n % i == 0):\n",
        "          return False\n",
        "      return True\n",
        "\n",
        "def IsOdd(n):\n",
        "    if(n % 2 != 0):\n",
        "      return True\n",
        "\n",
        "\n",
        "def IsEven(n):\n",
        "    if(n % 2 == 0):\n",
        "      return True\n",
        "\n",
        "odd = []\n",
        "even = []\n",
        "prime = []\n",
        "\n",
        "primeNums = 0\n",
        "oddNums = 0\n",
        "evenNums = 0\n",
        "\n",
        "for i in list1:\n",
        "  if (IsOdd(i)):\n",
        "    oddNums += 1\n",
        "    odd.append(i)\n",
        "\n",
        "  if (IsEven(i)):\n",
        "    evenNums += 1\n",
        "    even.append(i)\n",
        "\n",
        "  if (IsPrimeN(i)):\n",
        "    prime.append(i)\n",
        "    primeNums += 1\n",
        "\n",
        "print(f'Odd Numbers {odd}')\n",
        "print(f'Total odd numbers {oddNums}')\n",
        "print(f'Even Numbers {even}')\n",
        "print(f'Total evven numbers {evenNums}')\n",
        "print(f'Prime Numbers {prime}')\n",
        "print(f'Total prime numbers {primeNums}')\n",
        "\n",
        "\n"
      ],
      "metadata": {
        "colab": {
          "base_uri": "https://localhost:8080/"
        },
        "id": "d9mvsXoJl0zJ",
        "outputId": "d2c20f75-7cd1-49d5-bda0-d7ececc9c732"
      },
      "execution_count": 37,
      "outputs": [
        {
          "output_type": "stream",
          "name": "stdout",
          "text": [
            "Odd Numbers [363, 455, 545, 379, 543, 701, 353, 553, 337, 521, 351, 867, 511, 127, 179, 569, 623, 469, 661, 743, 125, 409, 125, 899, 641, 693, 127, 613, 307, 623, 263, 413, 899, 851, 355, 679, 641, 507, 693, 451, 163, 675, 641, 497, 829, 251, 555]\n",
            "Total odd numbers 47\n",
            "Even Numbers [466, 140, 254, 626, 854, 204, 278, 250, 248, 732, 750, 342, 810, 686, 512, 478, 756, 160, 134, 250, 490, 756, 254, 854, 474, 504, 836, 606, 878, 492, 744, 672, 524, 292, 722, 892, 678, 690, 106, 462, 172, 870, 732, 140, 680, 590, 318, 194, 446, 382, 336, 878, 780]\n",
            "Total evven numbers 53\n",
            "Prime Numbers [379, 701, 353, 337, 521, 127, 179, 569, 661, 743, 409, 641, 127, 613, 307, 263, 641, 163, 641, 829, 251]\n",
            "Total prime numbers 21\n"
          ]
        }
      ]
    },
    {
      "cell_type": "code",
      "source": [
        "''' Question 7 '''\n",
        "\n",
        "D = {1: \"One\", 2: \"Two\", 3: \"Three\", 4: \"Four\", 5: \"Five\"}\n",
        "\n",
        "with open(\"dictionary_output.txt\", \"w\") as file:\n",
        "    for key, value in D.items():\n",
        "        file.write(f\"{key}, {value}\\n\")\n",
        "\n",
        "print(\"Dictionary has been written to 'dictionary_output.txt'\")\n"
      ],
      "metadata": {
        "colab": {
          "base_uri": "https://localhost:8080/"
        },
        "id": "SZOV_6tuodNb",
        "outputId": "c7437ec8-120b-4752-d068-4befee95366d"
      },
      "execution_count": 38,
      "outputs": [
        {
          "output_type": "stream",
          "name": "stdout",
          "text": [
            "Dictionary has been written to 'dictionary_output.txt'\n"
          ]
        }
      ]
    },
    {
      "cell_type": "code",
      "source": [
        "''' Question 8 '''\n",
        "L = {\"One\", \"Two\", \"Three\", \"Four\", \"Five\"}\n",
        "\n",
        "with open(\"length_output.txt\", \"w\") as file:\n",
        "    for item in L:\n",
        "        file.write(f\"{item}, {len(item)}\\n\")\n"
      ],
      "metadata": {
        "id": "60-_KcndpUhn"
      },
      "execution_count": 39,
      "outputs": []
    },
    {
      "cell_type": "code",
      "source": [
        "''' Question 9 '''\n",
        "import random\n",
        "import string\n",
        "\n",
        "with open(\"random_strings.txt\", \"w\") as file:\n",
        "    for _ in range(100):\n",
        "        length = random.randint(10, 15)\n",
        "        rand_str = ''.join(random.choices(string.ascii_letters + string.digits, k=length))\n",
        "        file.write(rand_str + \"\\n\")\n"
      ],
      "metadata": {
        "id": "zv7a_cFVpuFH"
      },
      "execution_count": 40,
      "outputs": []
    },
    {
      "cell_type": "code",
      "source": [
        "def is_prime(n):\n",
        "    if n < 2:\n",
        "        return False\n",
        "    for i in range(2, int(n**0.5) + 1):\n",
        "        if n % i == 0:\n",
        "            return False\n",
        "    return True\n",
        "\n",
        "with open(\"primes_600_800.txt\", \"w\") as file:\n",
        "    for num in range(600, 801):\n",
        "        if is_prime(num):\n",
        "            file.write(str(num) + \"\\n\")\n"
      ],
      "metadata": {
        "id": "F1v92H6eqJAB"
      },
      "execution_count": 41,
      "outputs": []
    },
    {
      "cell_type": "code",
      "source": [
        "import time\n",
        "\n",
        "start = time.time()\n",
        "\n",
        "# Sample code block\n",
        "for i in range(1000000):\n",
        "    pass\n",
        "\n",
        "end = time.time()\n",
        "\n",
        "print(\"Time taken:\", end - start, \"seconds\")\n"
      ],
      "metadata": {
        "colab": {
          "base_uri": "https://localhost:8080/"
        },
        "id": "zfTtlEtUqdvC",
        "outputId": "e4c7d2de-4075-4417-f2af-93778dac2445"
      },
      "execution_count": 42,
      "outputs": [
        {
          "output_type": "stream",
          "name": "stdout",
          "text": [
            "Time taken: 0.0809941291809082 seconds\n"
          ]
        }
      ]
    },
    {
      "cell_type": "code",
      "source": [
        "import time\n",
        "import random\n",
        "import matplotlib.pyplot as plt\n",
        "\n",
        "sizes = [5000, 10000, 15000, 20000, 25000]\n",
        "times = []\n",
        "\n",
        "for size in sizes:\n",
        "    data = [random.randint(0, 100000) for _ in range(size)]\n",
        "    start_time = time.time()\n",
        "    sorted_data = sorted(data)\n",
        "    end_time = time.time()\n",
        "    times.append(end_time - start_time)\n",
        "\n",
        "plt.plot(sizes, times, marker='o', color='orange')\n",
        "plt.title('Sorting Time vs Number of Elements')\n",
        "plt.xlabel('Number of Elements')\n",
        "plt.ylabel('Time Taken (seconds)')\n",
        "plt.grid(True)\n",
        "plt.show()\n"
      ],
      "metadata": {
        "colab": {
          "base_uri": "https://localhost:8080/",
          "height": 472
        },
        "id": "9rC3KI-8qjl1",
        "outputId": "e91527d0-b12f-450d-c763-dd5b3e79882c"
      },
      "execution_count": 43,
      "outputs": [
        {
          "output_type": "display_data",
          "data": {
            "text/plain": [
              "<Figure size 640x480 with 1 Axes>"
            ],
            "image/png": "[encoded data removed]"
          },
          "metadata": {}
        }
      ]
    },
    {
      "cell_type": "code",
      "source": [
        "students = {\n",
        "    'Alice': [85, 90, 78, 92, 88],\n",
        "    'Bob': [70, 65, 72, 68, 74],\n",
        "    'Charlie': [95, 88, 91, 94, 90],\n",
        "    'David': [60, 62, 58, 65, 61],\n",
        "    'Eva': [80, 85, 82, 78, 84]\n",
        "}\n",
        "\n",
        "averages = {name: sum(marks)/len(marks) for name, marks in students.items()}\n",
        "\n",
        "max_student = max(averages, key=averages.get)\n",
        "min_student = min(averages, key=averages.get)\n",
        "\n",
        "print(\"Student with maximum average marks:\", max_student, \"->\", averages[max_student])\n",
        "print(\"Student with minimum average marks:\", min_student, \"->\", averages[min_student])\n"
      ],
      "metadata": {
        "colab": {
          "base_uri": "https://localhost:8080/"
        },
        "id": "v0_cUF0zrSwu",
        "outputId": "bb05407f-af9a-4de1-9cfd-13696ff4c9d2"
      },
      "execution_count": 44,
      "outputs": [
        {
          "output_type": "stream",
          "name": "stdout",
          "text": [
            "Student with maximum average marks: Charlie -> 91.6\n",
            "Student with minimum average marks: David -> 61.2\n"
          ]
        }
      ]
    },
    {
      "cell_type": "code",
      "source": [],
      "metadata": {
        "id": "7m6G0bstrbqM"
      },
      "execution_count": null,
      "outputs": []
    }
  ]
}