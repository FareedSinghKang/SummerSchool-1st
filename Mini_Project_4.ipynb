{
  "nbformat": 4,
  "nbformat_minor": 0,
  "metadata": {
    "colab": {
      "provenance": [],
      "authorship_tag": "ABX9TyM95sIaIBwU281GaumfpM9x",
      "include_colab_link": true
    },
    "kernelspec": {
      "name": "python3",
      "display_name": "Python 3"
    },
    "language_info": {
      "name": "python"
    }
  },
  "cells": [
    {
      "cell_type": "markdown",
      "metadata": {
        "id": "view-in-github",
        "colab_type": "text"
      },
      "source": [
        "<a href=\"https://colab.research.google.com/github/FareedSinghKang/SummerSchool-1st/blob/main/Mini_Project_4.ipynb\" target=\"_parent\"><img src=\"https://colab.research.google.com/assets/colab-badge.svg\" alt=\"Open In Colab\"/></a>"
      ]
    },
    {
      "cell_type": "code",
      "execution_count": 4,
      "metadata": {
        "id": "zwDccUdH0gEy",
        "colab": {
          "base_uri": "https://localhost:8080/"
        },
        "outputId": "1381d9df-45fb-44e7-bcc6-33b24f2ce780"
      },
      "outputs": [
        {
          "output_type": "stream",
          "name": "stdout",
          "text": [
            "Matching Product Sets:\n"
          ]
        }
      ],
      "source": [
        "import pandas as pd\n",
        "from itertools import combinations\n",
        "\n",
        "# Sample product data (in practice, read from uploaded CSV or Excel)\n",
        "data = {\n",
        "    'Pid': ['P1', 'P2', 'P3', 'P4', 'P5'],\n",
        "    'Price': [64, 88, 152, 93, 76]\n",
        "}\n",
        "\n",
        "df = pd.DataFrame(data)\n",
        "\n",
        "# User-defined limits\n",
        "lower_limit = 490\n",
        "upper_limit = 510\n",
        "\n",
        "# Store valid combinations\n",
        "valid_combos = []\n",
        "\n",
        "# Generate combinations of all sizes (2 to full set)\n",
        "for r in range(2, len(df) + 1):\n",
        "    for combo in combinations(df.itertuples(index=False), r):\n",
        "        total_price = sum(item.Price for item in combo)\n",
        "        if lower_limit <= total_price <= upper_limit:\n",
        "            combo_ids = {item.Pid for item in combo}\n",
        "            valid_combos.append(combo_ids)\n",
        "\n",
        "# Output\n",
        "print(\"Matching Product Sets:\")\n",
        "for combo in valid_combos:\n",
        "    print(combo)\n"
      ]
    },
    {
      "cell_type": "code",
      "source": [],
      "metadata": {
        "id": "kkxG7xx31ATg"
      },
      "execution_count": null,
      "outputs": []
    }
  ]
}